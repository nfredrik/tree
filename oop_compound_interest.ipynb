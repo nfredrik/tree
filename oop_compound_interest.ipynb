{
 "cells": [
  {
   "cell_type": "markdown",
   "metadata": {},
   "source": [
    "Compound interest"
   ]
  },
  {
   "cell_type": "markdown",
   "metadata": {},
   "source": [
    "We have a number possible interest rates"
   ]
  },
  {
   "cell_type": "code",
   "execution_count": null,
   "metadata": {},
   "outputs": [],
   "source": [
    "interest_rates = [0.03, 0.04, 0.05]"
   ]
  },
  {
   "cell_type": "markdown",
   "metadata": {},
   "source": [
    "Calculate a number of compound interest rates for a given number of years, e.g. 5. Save year, interest rate and total sum for everry combination."
   ]
  },
  {
   "cell_type": "markdown",
   "metadata": {},
   "source": [
    "Step by step to get close to solution\n",
    "1. Create an empty list, total\n",
    "2. Create a for loop for number of years use range()\n",
    "3. Create a for loop for interest_rates, use definition above\n",
    "4. call function compound_interest() with parameter years and interest rate \n",
    "5. define a class InterestSum with instance variables year, interest rate and total sum\n",
    "6. save the outcome from compound_interest in an object from InterestSum and save to list total\n",
    "7. add a magic function __lt__() to compare current total sum with other total sum\n",
    "8.  apply sort() to total\n",
    "9.  print the reverse order of total."
   ]
  },
  {
   "cell_type": "code",
   "execution_count": 2,
   "metadata": {},
   "outputs": [],
   "source": [
    "from turtle import *"
   ]
  }
 ],
 "metadata": {
  "kernelspec": {
   "display_name": "test4",
   "language": "python",
   "name": "python3"
  },
  "language_info": {
   "codemirror_mode": {
    "name": "ipython",
    "version": 3
   },
   "file_extension": ".py",
   "mimetype": "text/x-python",
   "name": "python",
   "nbconvert_exporter": "python",
   "pygments_lexer": "ipython3",
   "version": "3.12.5"
  }
 },
 "nbformat": 4,
 "nbformat_minor": 2
}
