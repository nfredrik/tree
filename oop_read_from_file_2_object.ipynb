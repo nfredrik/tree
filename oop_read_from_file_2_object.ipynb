{
 "cells": [
  {
   "cell_type": "code",
   "execution_count": null,
   "metadata": {},
   "outputs": [],
   "source": []
  },
  {
   "cell_type": "markdown",
   "metadata": {},
   "source": [
    "Read a from a json or csv file and create objects based on the data \n",
    "\n",
    "Save all objects in an list.\n",
    "\n",
    "Filter out  all females over 35 years\n",
    "\n",
    "\n",
    "Use a similar exercise with this information!"
   ]
  },
  {
   "cell_type": "code",
   "execution_count": null,
   "metadata": {},
   "outputs": [],
   "source": [
    "import csv\n",
    "\n",
    "# Define a class to represent a person\n",
    "class Person:\n",
    "    def __init__(self, name, age, city):\n",
    "        self.name = name\n",
    "        self.age = age\n",
    "        self.city = city\n",
    "\n",
    "    def __repr__(self):\n",
    "        return f\"Person(name={self.name}, age={self.age}, city={self.city})\"\n",
    "\n",
    "# List to store Person objects\n",
    "people = []\n",
    "\n",
    "# Read the CSV file and create Person objects\n",
    "with open('data.csv', mode='r') as file:\n",
    "    csv_reader = csv.DictReader(file)\n",
    "    for row in csv_reader:\n",
    "        person = Person(name=row['name'], age=int(row['age']), city=row['city'])\n",
    "        people.append(person)\n",
    "\n",
    "# Print the list of Person objects\n",
    "for person in people:\n",
    "    print(person)\n"
   ]
  },
  {
   "cell_type": "code",
   "execution_count": 5,
   "metadata": {},
   "outputs": [
    {
     "name": "stdout",
     "output_type": "stream",
     "text": [
      "NetworkTraffic(timestamp=2024-08-27 12:00:00, source_ip=192.168.1.1, destination_ip=192.168.1.2, bytes_transferred=500)\n",
      "NetworkTraffic(timestamp=2024-08-27 12:01:00, source_ip=192.168.1.3, destination_ip=192.168.1.4, bytes_transferred=0)\n",
      "NetworkTraffic(timestamp=2024-08-27 12:02:00, source_ip=, destination_ip=192.168.1.5, bytes_transferred=300)\n"
     ]
    }
   ],
   "source": [
    "import csv\n",
    "from datetime import datetime\n",
    "\n",
    "# Define a class to represent a network traffic record\n",
    "class NetworkTraffic:\n",
    "    def __init__(self, timestamp, source_ip, destination_ip, bytes_transferred):\n",
    "        self.timestamp = timestamp\n",
    "        self.source_ip = source_ip\n",
    "        self.destination_ip = destination_ip\n",
    "        self.bytes_transferred = bytes_transferred\n",
    "\n",
    "    def __repr__(self):\n",
    "        return (f\"NetworkTraffic(timestamp={self.timestamp}, source_ip={self.source_ip}, \"\n",
    "                f\"destination_ip={self.destination_ip}, bytes_transferred={self.bytes_transferred})\")\n",
    "\n",
    "# List to store NetworkTraffic objects\n",
    "network_traffic_data = []\n",
    "\n",
    "# Read the CSV file and create NetworkTraffic objects\n",
    "with open('network_data.csv', mode='r') as file:\n",
    "    csv_reader = csv.DictReader(file)\n",
    "    for row in csv_reader:\n",
    "        timestamp = row.get('timestamp', '1970-01-01 00:00:00')\n",
    "        timestamp = datetime.strptime(timestamp, '%Y-%m-%d %H:%M:%S')\n",
    "        source_ip = row.get('source_ip', '0.0.0.0')\n",
    "        destination_ip = row.get('destination_ip', '0.0.0.0')\n",
    "        bytes_transferred = int(row['bytes_transferred']) if row['bytes_transferred'] else 0\n",
    "        record = NetworkTraffic(timestamp=timestamp, source_ip=source_ip, destination_ip=destination_ip, bytes_transferred=bytes_transferred)\n",
    "        network_traffic_data.append(record)\n",
    "\n",
    "# Print the list of NetworkTraffic objects\n",
    "for record in network_traffic_data:\n",
    "    print(record)\n"
   ]
  }
 ],
 "metadata": {
  "kernelspec": {
   "display_name": "test4",
   "language": "python",
   "name": "python3"
  },
  "language_info": {
   "codemirror_mode": {
    "name": "ipython",
    "version": 3
   },
   "file_extension": ".py",
   "mimetype": "text/x-python",
   "name": "python",
   "nbconvert_exporter": "python",
   "pygments_lexer": "ipython3",
   "version": "3.12.5"
  }
 },
 "nbformat": 4,
 "nbformat_minor": 2
}
