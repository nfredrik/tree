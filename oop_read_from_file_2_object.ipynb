{
 "cells": [
  {
   "cell_type": "code",
   "execution_count": null,
   "metadata": {},
   "outputs": [],
   "source": []
  },
  {
   "cell_type": "markdown",
   "metadata": {},
   "source": [
    "Read a from a json or csv file and create objects based on the data \n",
    "\n",
    "Save all objects in an list.\n",
    "\n",
    "Filter out  all females over 35 years\n",
    "\n",
    "\n",
    "Use a similar exercise with this information!"
   ]
  }
 ],
 "metadata": {
  "language_info": {
   "name": "python"
  }
 },
 "nbformat": 4,
 "nbformat_minor": 2
}
