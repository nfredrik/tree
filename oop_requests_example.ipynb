{
 "cells": [
  {
   "cell_type": "code",
   "execution_count": null,
   "id": "17a54a38-5149-44e2-a8e6-2c9cc1f1a75e",
   "metadata": {},
   "outputs": [],
   "source": [
    "import requests"
   ]
  },
  {
   "cell_type": "code",
   "execution_count": null,
   "id": "a4f6086d-cf7f-4d5e-a1a7-7380398267ea",
   "metadata": {},
   "outputs": [],
   "source": [
    "resp = requests.get('http://httpbin.org/json')"
   ]
  },
  {
   "cell_type": "code",
   "execution_count": null,
   "id": "ed01aada-2b47-48ce-b973-c5d3320294ea",
   "metadata": {},
   "outputs": [],
   "source": [
    "resp.status_code\n"
   ]
  },
  {
   "cell_type": "code",
   "execution_count": null,
   "id": "68884ffa-0ca9-441d-8768-51552b8675b0",
   "metadata": {},
   "outputs": [],
   "source": [
    "resp.json()"
   ]
  },
  {
   "cell_type": "code",
   "execution_count": null,
   "id": "b21371a3-59a8-409d-8705-262c19a0d7e6",
   "metadata": {},
   "outputs": [],
   "source": []
  }
 ],
 "metadata": {
  "kernelspec": {
   "display_name": "Python 3 (ipykernel)",
   "language": "python",
   "name": "python3"
  },
  "language_info": {
   "codemirror_mode": {
    "name": "ipython",
    "version": 3
   },
   "file_extension": ".py",
   "mimetype": "text/x-python",
   "name": "python",
   "nbconvert_exporter": "python",
   "pygments_lexer": "ipython3",
   "version": "3.12.5"
  }
 },
 "nbformat": 4,
 "nbformat_minor": 5
}
