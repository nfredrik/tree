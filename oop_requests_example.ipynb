{
 "cells": [
  {
   "cell_type": "markdown",
   "id": "17a54a38-5149-44e2-a8e6-2c9cc1f1a75e",
   "metadata": {},
   "source": [
    "Import 3rd party http library: requests"
   ]
  },
  {
   "cell_type": "code",
   "execution_count": 9,
   "id": "d373d037",
   "metadata": {},
   "outputs": [],
   "source": [
    "import requests"
   ]
  },
  {
   "cell_type": "markdown",
   "id": "74ac0d9f",
   "metadata": {},
   "source": [
    "http GET on httpbin.org endpoint. Save response in variable ***resp***"
   ]
  },
  {
   "cell_type": "code",
   "execution_count": 10,
   "id": "a4f6086d-cf7f-4d5e-a1a7-7380398267ea",
   "metadata": {},
   "outputs": [],
   "source": [
    "resp = requests.get('http://httpbin.org/json')"
   ]
  },
  {
   "cell_type": "markdown",
   "id": "10f7e1a9",
   "metadata": {},
   "source": [
    "Check if request went okay by inspecting status_code."
   ]
  },
  {
   "cell_type": "code",
   "execution_count": 11,
   "id": "ed01aada-2b47-48ce-b973-c5d3320294ea",
   "metadata": {},
   "outputs": [
    {
     "data": {
      "text/plain": [
       "200"
      ]
     },
     "execution_count": 11,
     "metadata": {},
     "output_type": "execute_result"
    }
   ],
   "source": [
    "resp.status_code"
   ]
  },
  {
   "cell_type": "markdown",
   "id": "9dc17dea",
   "metadata": {},
   "source": [
    "Everything is an object"
   ]
  },
  {
   "cell_type": "code",
   "execution_count": 12,
   "id": "15ee0abd",
   "metadata": {},
   "outputs": [
    {
     "data": {
      "text/plain": [
       "requests.models.Response"
      ]
     },
     "execution_count": 12,
     "metadata": {},
     "output_type": "execute_result"
    }
   ],
   "source": [
    "type(resp)"
   ]
  },
  {
   "cell_type": "code",
   "execution_count": 13,
   "id": "b188ef94",
   "metadata": {},
   "outputs": [
    {
     "name": "stdout",
     "output_type": "stream",
     "text": [
      "Help on Response in module requests.models object:\n",
      "\n",
      "class Response(builtins.object)\n",
      " |  The :class:`Response <Response>` object, which contains a\n",
      " |  server's response to an HTTP request.\n",
      " |\n",
      " |  Methods defined here:\n",
      " |\n",
      " |  __bool__(self)\n",
      " |      Returns True if :attr:`status_code` is less than 400.\n",
      " |\n",
      " |      This attribute checks if the status code of the response is between\n",
      " |      400 and 600 to see if there was a client error or a server error. If\n",
      " |      the status code, is between 200 and 400, this will return True. This\n",
      " |      is **not** a check to see if the response code is ``200 OK``.\n",
      " |\n",
      " |  __enter__(self)\n",
      " |\n",
      " |  __exit__(self, *args)\n",
      " |\n",
      " |  __getstate__(self)\n",
      " |      Helper for pickle.\n",
      " |\n",
      " |  __init__(self)\n",
      " |      Initialize self.  See help(type(self)) for accurate signature.\n",
      " |\n",
      " |  __iter__(self)\n",
      " |      Allows you to use a response as an iterator.\n",
      " |\n",
      " |  __nonzero__(self)\n",
      " |      Returns True if :attr:`status_code` is less than 400.\n",
      " |\n",
      " |      This attribute checks if the status code of the response is between\n",
      " |      400 and 600 to see if there was a client error or a server error. If\n",
      " |      the status code, is between 200 and 400, this will return True. This\n",
      " |      is **not** a check to see if the response code is ``200 OK``.\n",
      " |\n",
      " |  __repr__(self)\n",
      " |      Return repr(self).\n",
      " |\n",
      " |  __setstate__(self, state)\n",
      " |\n",
      " |  close(self)\n",
      " |      Releases the connection back to the pool. Once this method has been\n",
      " |      called the underlying ``raw`` object must not be accessed again.\n",
      " |\n",
      " |      *Note: Should not normally need to be called explicitly.*\n",
      " |\n",
      " |  iter_content(self, chunk_size=1, decode_unicode=False)\n",
      " |      Iterates over the response data.  When stream=True is set on the\n",
      " |      request, this avoids reading the content at once into memory for\n",
      " |      large responses.  The chunk size is the number of bytes it should\n",
      " |      read into memory.  This is not necessarily the length of each item\n",
      " |      returned as decoding can take place.\n",
      " |\n",
      " |      chunk_size must be of type int or None. A value of None will\n",
      " |      function differently depending on the value of `stream`.\n",
      " |      stream=True will read data as it arrives in whatever size the\n",
      " |      chunks are received. If stream=False, data is returned as\n",
      " |      a single chunk.\n",
      " |\n",
      " |      If decode_unicode is True, content will be decoded using the best\n",
      " |      available encoding based on the response.\n",
      " |\n",
      " |  iter_lines(self, chunk_size=512, decode_unicode=False, delimiter=None)\n",
      " |      Iterates over the response data, one line at a time.  When\n",
      " |      stream=True is set on the request, this avoids reading the\n",
      " |      content at once into memory for large responses.\n",
      " |\n",
      " |      .. note:: This method is not reentrant safe.\n",
      " |\n",
      " |  json(self, **kwargs)\n",
      " |      Returns the json-encoded content of a response, if any.\n",
      " |\n",
      " |      :param \\*\\*kwargs: Optional arguments that ``json.loads`` takes.\n",
      " |      :raises requests.exceptions.JSONDecodeError: If the response body does not\n",
      " |          contain valid json.\n",
      " |\n",
      " |  raise_for_status(self)\n",
      " |      Raises :class:`HTTPError`, if one occurred.\n",
      " |\n",
      " |  ----------------------------------------------------------------------\n",
      " |  Readonly properties defined here:\n",
      " |\n",
      " |  apparent_encoding\n",
      " |      The apparent encoding, provided by the charset_normalizer or chardet libraries.\n",
      " |\n",
      " |  content\n",
      " |      Content of the response, in bytes.\n",
      " |\n",
      " |  is_permanent_redirect\n",
      " |      True if this Response one of the permanent versions of redirect.\n",
      " |\n",
      " |  is_redirect\n",
      " |      True if this Response is a well-formed HTTP redirect that could have\n",
      " |      been processed automatically (by :meth:`Session.resolve_redirects`).\n",
      " |\n",
      " |  links\n",
      " |      Returns the parsed header links of the response, if any.\n",
      " |\n",
      " |  next\n",
      " |      Returns a PreparedRequest for the next request in a redirect chain, if there is one.\n",
      " |\n",
      " |  ok\n",
      " |      Returns True if :attr:`status_code` is less than 400, False if not.\n",
      " |\n",
      " |      This attribute checks if the status code of the response is between\n",
      " |      400 and 600 to see if there was a client error or a server error. If\n",
      " |      the status code is between 200 and 400, this will return True. This\n",
      " |      is **not** a check to see if the response code is ``200 OK``.\n",
      " |\n",
      " |  text\n",
      " |      Content of the response, in unicode.\n",
      " |\n",
      " |      If Response.encoding is None, encoding will be guessed using\n",
      " |      ``charset_normalizer`` or ``chardet``.\n",
      " |\n",
      " |      The encoding of the response content is determined based solely on HTTP\n",
      " |      headers, following RFC 2616 to the letter. If you can take advantage of\n",
      " |      non-HTTP knowledge to make a better guess at the encoding, you should\n",
      " |      set ``r.encoding`` appropriately before accessing this property.\n",
      " |\n",
      " |  ----------------------------------------------------------------------\n",
      " |  Data descriptors defined here:\n",
      " |\n",
      " |  __dict__\n",
      " |      dictionary for instance variables\n",
      " |\n",
      " |  __weakref__\n",
      " |      list of weak references to the object\n",
      " |\n",
      " |  ----------------------------------------------------------------------\n",
      " |  Data and other attributes defined here:\n",
      " |\n",
      " |  __attrs__ = ['_content', 'status_code', 'headers', 'url', 'history', '...\n",
      "\n"
     ]
    }
   ],
   "source": [
    "help(resp)"
   ]
  },
  {
   "cell_type": "markdown",
   "id": "cf5cc94e",
   "metadata": {},
   "source": [
    "Convert payload to json! internally actually a dict"
   ]
  },
  {
   "cell_type": "code",
   "execution_count": 14,
   "id": "68884ffa-0ca9-441d-8768-51552b8675b0",
   "metadata": {},
   "outputs": [
    {
     "data": {
      "text/plain": [
       "{'slideshow': {'author': 'Yours Truly',\n",
       "  'date': 'date of publication',\n",
       "  'slides': [{'title': 'Wake up to WonderWidgets!', 'type': 'all'},\n",
       "   {'items': ['Why <em>WonderWidgets</em> are great',\n",
       "     'Who <em>buys</em> WonderWidgets'],\n",
       "    'title': 'Overview',\n",
       "    'type': 'all'}],\n",
       "  'title': 'Sample Slide Show'}}"
      ]
     },
     "execution_count": 14,
     "metadata": {},
     "output_type": "execute_result"
    }
   ],
   "source": [
    "resp.json()"
   ]
  },
  {
   "cell_type": "code",
   "execution_count": 15,
   "id": "b21371a3-59a8-409d-8705-262c19a0d7e6",
   "metadata": {},
   "outputs": [
    {
     "data": {
      "text/plain": [
       "{'Date': 'Tue, 27 Aug 2024 20:35:16 GMT', 'Content-Type': 'application/json', 'Content-Length': '429', 'Connection': 'keep-alive', 'Server': 'gunicorn/19.9.0', 'Access-Control-Allow-Origin': '*', 'Access-Control-Allow-Credentials': 'true'}"
      ]
     },
     "execution_count": 15,
     "metadata": {},
     "output_type": "execute_result"
    }
   ],
   "source": [
    "resp.headers"
   ]
  },
  {
   "cell_type": "code",
   "execution_count": 17,
   "id": "c0126128",
   "metadata": {},
   "outputs": [
    {
     "data": {
      "text/plain": [
       "b'{\\n  \"slideshow\": {\\n    \"author\": \"Yours Truly\", \\n    \"date\": \"date of publication\", \\n    \"slides\": [\\n      {\\n        \"title\": \"Wake up to WonderWidgets!\", \\n        \"type\": \"all\"\\n      }, \\n      {\\n        \"items\": [\\n          \"Why <em>WonderWidgets</em> are great\", \\n          \"Who <em>buys</em> WonderWidgets\"\\n        ], \\n        \"title\": \"Overview\", \\n        \"type\": \"all\"\\n      }\\n    ], \\n    \"title\": \"Sample Slide Show\"\\n  }\\n}\\n'"
      ]
     },
     "execution_count": 17,
     "metadata": {},
     "output_type": "execute_result"
    }
   ],
   "source": [
    "resp.content"
   ]
  }
 ],
 "metadata": {
  "kernelspec": {
   "display_name": "Python 3 (ipykernel)",
   "language": "python",
   "name": "python3"
  },
  "language_info": {
   "codemirror_mode": {
    "name": "ipython",
    "version": 3
   },
   "file_extension": ".py",
   "mimetype": "text/x-python",
   "name": "python",
   "nbconvert_exporter": "python",
   "pygments_lexer": "ipython3",
   "version": "3.12.5"
  }
 },
 "nbformat": 4,
 "nbformat_minor": 5
}
